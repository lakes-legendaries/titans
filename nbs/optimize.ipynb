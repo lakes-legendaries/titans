{
 "cells": [
  {
   "cell_type": "code",
   "execution_count": null,
   "metadata": {},
   "outputs": [],
   "source": [
    "\"\"\"operate in parent directory\"\"\"\n",
    "\n",
    "import os\n",
    "import sys\n",
    "\n",
    "\n",
    "sys.path.insert(0, os.getcwd() + \"/..\")"
   ]
  },
  {
   "cell_type": "code",
   "execution_count": null,
   "metadata": {},
   "outputs": [],
   "source": [
    "\"\"\"play games\"\"\"\n",
    "\n",
    "from tqdm import tqdm\n",
    "\n",
    "from titans.ai import Trainer\n",
    "\n",
    "\n",
    "num_trainers = 10\n",
    "trainers = [Trainer().train() for _ in tqdm(range(num_trainers))]"
   ]
  },
  {
   "cell_type": "code",
   "execution_count": null,
   "metadata": {},
   "outputs": [],
   "source": [
    "\"\"\"plot results\"\"\"\n",
    "\n",
    "from matplotlib import pyplot as plt\n",
    "from matplotlib.ticker import PercentFormatter\n",
    "import numpy as np\n",
    "import seaborn as sns\n",
    "\n",
    "\n",
    "# extract scores, compute mean\n",
    "win_frac = [\n",
    "    (\n",
    "        trainer.metrics[\"vs_baseline\"]\n",
    "        + [np.NaN] * (\n",
    "            trainers[0]._epochs\n",
    "            - len(trainer.metrics[\"vs_baseline\"])\n",
    "        )\n",
    "    )\n",
    "    for trainer in trainers\n",
    "]\n",
    "overall_win_frac = np.nanmean(win_frac, axis=0)\n",
    "\n",
    "# make pretty\n",
    "sns.set_theme()\n",
    "\n",
    "# make figure\n",
    "fig, ax = plt.subplots(1, 1, figsize=(5, 5))\n",
    "\n",
    "# plot player stats\n",
    "epochs = trainers[0]._epochs\n",
    "games_per_epoch = trainers[0]._games_per_epoch\n",
    "x = range(\n",
    "    games_per_epoch,\n",
    "    games_per_epoch * epochs + 1,\n",
    "    games_per_epoch,\n",
    ")\n",
    "ax.plot(x, 100 * overall_win_frac, color=\"black\", lw=2)\n",
    "for y in win_frac:\n",
    "    ax.plot(x, 100 * np.array(y), color=\"gray\", lw=.5)\n",
    "\n",
    "# label figure\n",
    "ax.set_xlabel(\"Number of Games Played\")\n",
    "ax.set_ylabel(f\"Win Rate (Last {games_per_epoch} Games)\")\n",
    "ax.set_title(\"Win Rate: Learning Player vs Random Player\")\n",
    "ax.yaxis.set_major_formatter(PercentFormatter())\n",
    "ax.legend([\"Average Rate\", \"Individual Player Rates\"])\n",
    "ax.set_ylim([45, 100])\n",
    "\n",
    "# show plot\n",
    "fig.tight_layout()\n",
    "plt.show()"
   ]
  }
 ],
 "metadata": {
  "kernelspec": {
   "display_name": ".venv",
   "language": "python",
   "name": "python3"
  },
  "language_info": {
   "codemirror_mode": {
    "name": "ipython",
    "version": 3
   },
   "file_extension": ".py",
   "mimetype": "text/x-python",
   "name": "python",
   "nbconvert_exporter": "python",
   "pygments_lexer": "ipython3",
   "version": "3.11.3"
  },
  "orig_nbformat": 4
 },
 "nbformat": 4,
 "nbformat_minor": 2
}
